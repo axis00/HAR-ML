{
 "cells": [
  {
   "cell_type": "markdown",
   "metadata": {},
   "source": [
    "# Convert"
   ]
  },
  {
   "cell_type": "code",
   "execution_count": 2,
   "metadata": {},
   "outputs": [],
   "source": [
    "from __future__ import print_function\n",
    "\n",
    "import numpy as np\n",
    "import pandas as pd\n",
    "\n",
    "import tensorflow as tf\n",
    "from tensorflow.keras.layers import Dense, Dropout, Flatten, Reshape, GlobalAveragePooling1D\n",
    "from tensorflow.keras.layers import Conv1D, MaxPooling1D, LSTM, TimeDistributed, Flatten, Lambda\n",
    "from tensorflow.keras import utils\n",
    "\n",
    "# This is important!\n",
    "import os\n",
    "os.environ['TF_ENABLE_CONTROL_FLOW_V2'] = '1'"
   ]
  },
  {
   "cell_type": "code",
   "execution_count": 25,
   "metadata": {},
   "outputs": [],
   "source": [
    "cnn_best_model = tf.keras.models.load_model('cnn_best_model.h5')"
   ]
  },
  {
   "cell_type": "code",
   "execution_count": 32,
   "metadata": {},
   "outputs": [
    {
     "data": {
      "text/plain": [
       "2502340"
      ]
     },
     "execution_count": 32,
     "metadata": {},
     "output_type": "execute_result"
    }
   ],
   "source": [
    "tf.keras.backend.set_learning_phase(False)\n",
    "# cnn_best_model.output\n",
    "converter = tf.lite.TFLiteConverter.from_keras_model_file(\"cnn_best_model.h5\")\n",
    "tflite_model = converter.convert()\n",
    "open(\"CNN_2.tflite\", \"wb\").write(tflite_model)"
   ]
  },
  {
   "cell_type": "code",
   "execution_count": 24,
   "metadata": {},
   "outputs": [],
   "source": [
    "def convert_to_tflite(model):\n",
    "    sess = tf.keras.backend.get_session()\n",
    "    input_tensor = sess.graph.get_tensor_by_name(model.input.name)\n",
    "    output_tensor = sess.graph.get_tensor_by_name(model.output.name)\n",
    "    converter = tf.lite.TFLiteConverter.from_session(\n",
    "        sess, [input_tensor], [output_tensor])\n",
    "    return converter.convert()"
   ]
  },
  {
   "cell_type": "code",
   "execution_count": 28,
   "metadata": {},
   "outputs": [],
   "source": [
    "cnn_lite = convert_to_tflite(cnn_best_model)"
   ]
  },
  {
   "cell_type": "code",
   "execution_count": 29,
   "metadata": {},
   "outputs": [
    {
     "data": {
      "text/plain": [
       "2502392"
      ]
     },
     "execution_count": 29,
     "metadata": {},
     "output_type": "execute_result"
    }
   ],
   "source": [
    "open(\"CNN.tflite\", \"wb\").write(cnn_lite)"
   ]
  }
 ],
 "metadata": {
  "kernelspec": {
   "display_name": "Python 3",
   "language": "python",
   "name": "python3"
  },
  "language_info": {
   "codemirror_mode": {
    "name": "ipython",
    "version": 3
   },
   "file_extension": ".py",
   "mimetype": "text/x-python",
   "name": "python",
   "nbconvert_exporter": "python",
   "pygments_lexer": "ipython3",
   "version": "3.7.1rc2"
  }
 },
 "nbformat": 4,
 "nbformat_minor": 2
}
